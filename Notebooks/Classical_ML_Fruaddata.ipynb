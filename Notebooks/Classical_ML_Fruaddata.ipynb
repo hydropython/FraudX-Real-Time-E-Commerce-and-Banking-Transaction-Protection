{
 "cells": [
  {
   "cell_type": "code",
   "execution_count": null,
   "metadata": {
    "vscode": {
     "languageId": "plaintext"
    }
   },
   "outputs": [],
   "source": [
    "import os\n",
    "import sys\n",
    "import pandas as pd\n",
    "sys.path.append('../Scripts')\n",
    "from Classical_ML_Fruaddata import FraudModelingPipeline"
   ]
  },
  {
   "cell_type": "code",
   "execution_count": null,
   "metadata": {
    "vscode": {
     "languageId": "plaintext"
    }
   },
   "outputs": [],
   "source": [
    "import pandas as pd\n",
    "\n",
    "# Step 1: Define data types for columns (excluding datetime columns)\n",
    "data_types = {\n",
    "    'user_id': 'int64',\n",
    "    'purchase_value': 'float64',\n",
    "    'device_id': 'object',\n",
    "    'source': 'object',\n",
    "    'browser': 'object',\n",
    "    'sex': 'category',\n",
    "    'age': 'int64',\n",
    "    'ip_address': 'object',\n",
    "    'class': 'int64',\n",
    "    'ip_numeric': 'int64',\n",
    "    'country': 'category'\n",
    "}\n",
    "\n",
    "# Step 2: Load the fraud dataset with specified data types\n",
    "Fraud_df = pd.read_csv(\n",
    "    \"../Data/balanced_fraud_df.csv\", \n",
    "    dtype=data_types, \n",
    "    parse_dates=['signup_time', 'purchase_time']  # Parse these columns as dates\n",
    ")\n",
    "Fraud_df['signup_time'] = pd.to_datetime(Fraud_df['signup_time'], errors='coerce')\n",
    "Fraud_df['purchase_time'] = pd.to_datetime(Fraud_df['purchase_time'], errors='coerce')\n",
    "\n",
    "# Step 3: Check data types of the loaded DataFrame\n",
    "print(Fraud_df.dtypes)\n",
    "\n",
    "# Step 4: Optionally sample the dataset if it's too large\n",
    "Fraud_sample = Fraud_df.sample(frac=0.2, random_state=42)  # Adjust sample size as needed\n",
    "\n",
    "# Step 5: Initialize the fraud modeling pipeline\n",
    "Fraud_pipeline = FraudModelingPipeline(Fraud_sample, target_column='class', dataset_name=\"Fraud\")\n",
    "\n",
    "# Step 6: Train the models\n",
    "Fraud_pipeline.train_models()"
   ]
  },
  {
   "cell_type": "code",
   "execution_count": null,
   "metadata": {
    "vscode": {
     "languageId": "plaintext"
    }
   },
   "outputs": [],
   "source": [
    "Fraud_pipeline.hyperparameter_tuning()"
   ]
  }
 ],
 "metadata": {
  "language_info": {
   "name": "python"
  }
 },
 "nbformat": 4,
 "nbformat_minor": 2
}
