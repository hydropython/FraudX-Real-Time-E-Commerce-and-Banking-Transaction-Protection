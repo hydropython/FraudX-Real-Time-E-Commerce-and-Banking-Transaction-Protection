{
 "cells": [
  {
   "cell_type": "code",
   "execution_count": 1,
   "metadata": {},
   "outputs": [
    {
     "name": "stderr",
     "output_type": "stream",
     "text": [
      "d:\\10 ACADAMY KIFIYA\\Week 12\\FraudX-Real-Time-E-Commerce-and-Banking-Transaction-Protection\\env\\Lib\\site-packages\\tqdm\\auto.py:21: TqdmWarning: IProgress not found. Please update jupyter and ipywidgets. See https://ipywidgets.readthedocs.io/en/stable/user_install.html\n",
      "  from .autonotebook import tqdm as notebook_tqdm\n"
     ]
    }
   ],
   "source": [
    "import os\n",
    "import sys\n",
    "import pandas as pd\n",
    "sys.path.append('../src')\n",
    "from Classical_ML_Fruaddata import FraudModelingPipeline"
   ]
  },
  {
   "cell_type": "code",
   "execution_count": 2,
   "metadata": {},
   "outputs": [
    {
     "name": "stdout",
     "output_type": "stream",
     "text": [
      "user_id                    int64\n",
      "signup_time       datetime64[ns]\n",
      "purchase_time     datetime64[ns]\n",
      "purchase_value           float64\n",
      "device_id                 object\n",
      "source                    object\n",
      "browser                   object\n",
      "sex                     category\n",
      "age                        int64\n",
      "ip_address                object\n",
      "class                      int64\n",
      "ip_numeric                 int64\n",
      "country                 category\n",
      "dtype: object\n",
      "--- Logistic Regression ---\n",
      "              precision    recall  f1-score   support\n",
      "\n",
      "           0       0.49      0.49      0.49       544\n",
      "           1       0.53      0.52      0.53       589\n",
      "\n",
      "    accuracy                           0.51      1133\n",
      "   macro avg       0.51      0.51      0.51      1133\n",
      "weighted avg       0.51      0.51      0.51      1133\n",
      "\n"
     ]
    },
    {
     "name": "stderr",
     "output_type": "stream",
     "text": [
      "2024/11/18 15:49:01 WARNING mlflow.models.model: Model logged without a signature and input example. Please set `input_example` parameter when logging the model to auto infer the model signature.\n"
     ]
    },
    {
     "name": "stdout",
     "output_type": "stream",
     "text": [
      "--- Decision Tree ---\n",
      "              precision    recall  f1-score   support\n",
      "\n",
      "           0       0.55      0.54      0.54       544\n",
      "           1       0.58      0.59      0.58       589\n",
      "\n",
      "    accuracy                           0.56      1133\n",
      "   macro avg       0.56      0.56      0.56      1133\n",
      "weighted avg       0.56      0.56      0.56      1133\n",
      "\n"
     ]
    },
    {
     "name": "stderr",
     "output_type": "stream",
     "text": [
      "2024/11/18 15:49:05 WARNING mlflow.models.model: Model logged without a signature and input example. Please set `input_example` parameter when logging the model to auto infer the model signature.\n"
     ]
    },
    {
     "name": "stdout",
     "output_type": "stream",
     "text": [
      "--- Random Forest ---\n",
      "              precision    recall  f1-score   support\n",
      "\n",
      "           0       0.56      0.58      0.57       544\n",
      "           1       0.60      0.58      0.59       589\n",
      "\n",
      "    accuracy                           0.58      1133\n",
      "   macro avg       0.58      0.58      0.58      1133\n",
      "weighted avg       0.58      0.58      0.58      1133\n",
      "\n"
     ]
    },
    {
     "name": "stderr",
     "output_type": "stream",
     "text": [
      "2024/11/18 15:49:10 WARNING mlflow.models.model: Model logged without a signature and input example. Please set `input_example` parameter when logging the model to auto infer the model signature.\n"
     ]
    },
    {
     "name": "stdout",
     "output_type": "stream",
     "text": [
      "--- Gradient Boosting ---\n",
      "              precision    recall  f1-score   support\n",
      "\n",
      "           0       0.53      0.51      0.52       544\n",
      "           1       0.56      0.58      0.57       589\n",
      "\n",
      "    accuracy                           0.55      1133\n",
      "   macro avg       0.55      0.55      0.55      1133\n",
      "weighted avg       0.55      0.55      0.55      1133\n",
      "\n"
     ]
    },
    {
     "name": "stderr",
     "output_type": "stream",
     "text": [
      "2024/11/18 15:49:15 WARNING mlflow.models.model: Model logged without a signature and input example. Please set `input_example` parameter when logging the model to auto infer the model signature.\n"
     ]
    }
   ],
   "source": [
    "import pandas as pd\n",
    "\n",
    "# Step 1: Define data types for columns (excluding datetime columns)\n",
    "data_types = {\n",
    "    'user_id': 'int64',\n",
    "    'purchase_value': 'float64',\n",
    "    'device_id': 'object',\n",
    "    'source': 'object',\n",
    "    'browser': 'object',\n",
    "    'sex': 'category',\n",
    "    'age': 'int64',\n",
    "    'ip_address': 'object',\n",
    "    'class': 'int64',\n",
    "    'ip_numeric': 'int64',\n",
    "    'country': 'category'\n",
    "}\n",
    "\n",
    "# Step 2: Load the fraud dataset with specified data types\n",
    "Fraud_df = pd.read_csv(\n",
    "    \"../Data/balanced_fraud_df.csv\", \n",
    "    dtype=data_types, \n",
    "    parse_dates=['signup_time', 'purchase_time']  # Parse these columns as dates\n",
    ")\n",
    "Fraud_df['signup_time'] = pd.to_datetime(Fraud_df['signup_time'], errors='coerce')\n",
    "Fraud_df['purchase_time'] = pd.to_datetime(Fraud_df['purchase_time'], errors='coerce')\n",
    "\n",
    "# Step 3: Check data types of the loaded DataFrame\n",
    "print(Fraud_df.dtypes)\n",
    "\n",
    "# Step 4: Optionally sample the dataset if it's too large\n",
    "Fraud_sample = Fraud_df.sample(frac=0.2, random_state=42)  # Adjust sample size as needed\n",
    "\n",
    "# Step 5: Initialize the fraud modeling pipeline\n",
    "Fraud_pipeline = FraudModelingPipeline(Fraud_sample, target_column='class', dataset_name=\"Fraud\")\n",
    "\n",
    "# Step 6: Train the models\n",
    "Fraud_pipeline.train_models()"
   ]
  },
  {
   "cell_type": "code",
   "execution_count": 3,
   "metadata": {},
   "outputs": [
    {
     "name": "stdout",
     "output_type": "stream",
     "text": [
      "Fitting 5 folds for each of 50 candidates, totalling 250 fits\n",
      "Best Random Forest Parameters: {'n_estimators': 100, 'min_samples_split': 2, 'min_samples_leaf': 1, 'max_depth': 20, 'bootstrap': True}\n",
      "--- Random Forest (Tuned) ---\n",
      "              precision    recall  f1-score   support\n",
      "\n",
      "           0       0.57      0.56      0.56       544\n",
      "           1       0.60      0.60      0.60       589\n",
      "\n",
      "    accuracy                           0.58      1133\n",
      "   macro avg       0.58      0.58      0.58      1133\n",
      "weighted avg       0.58      0.58      0.58      1133\n",
      "\n"
     ]
    },
    {
     "name": "stderr",
     "output_type": "stream",
     "text": [
      "2024/11/18 15:53:30 WARNING mlflow.models.model: Model logged without a signature and input example. Please set `input_example` parameter when logging the model to auto infer the model signature.\n"
     ]
    },
    {
     "name": "stdout",
     "output_type": "stream",
     "text": [
      "Fitting 5 folds for each of 50 candidates, totalling 250 fits\n",
      "Best Gradient Boosting Parameters: {'subsample': 0.8, 'n_estimators': 300, 'min_samples_split': 2, 'min_samples_leaf': 4, 'max_depth': 7, 'learning_rate': 0.05}\n",
      "--- Gradient Boosting (Tuned) ---\n",
      "              precision    recall  f1-score   support\n",
      "\n",
      "           0       0.55      0.57      0.56       544\n",
      "           1       0.59      0.58      0.58       589\n",
      "\n",
      "    accuracy                           0.57      1133\n",
      "   macro avg       0.57      0.57      0.57      1133\n",
      "weighted avg       0.57      0.57      0.57      1133\n",
      "\n"
     ]
    },
    {
     "name": "stderr",
     "output_type": "stream",
     "text": [
      "2024/11/18 15:55:14 WARNING mlflow.models.model: Model logged without a signature and input example. Please set `input_example` parameter when logging the model to auto infer the model signature.\n"
     ]
    }
   ],
   "source": [
    "Fraud_pipeline.hyperparameter_tuning()"
   ]
  }
 ],
 "metadata": {
  "kernelspec": {
   "display_name": "env",
   "language": "python",
   "name": "python3"
  },
  "language_info": {
   "codemirror_mode": {
    "name": "ipython",
    "version": 3
   },
   "file_extension": ".py",
   "mimetype": "text/x-python",
   "name": "python",
   "nbconvert_exporter": "python",
   "pygments_lexer": "ipython3",
   "version": "3.12.6"
  }
 },
 "nbformat": 4,
 "nbformat_minor": 2
}
