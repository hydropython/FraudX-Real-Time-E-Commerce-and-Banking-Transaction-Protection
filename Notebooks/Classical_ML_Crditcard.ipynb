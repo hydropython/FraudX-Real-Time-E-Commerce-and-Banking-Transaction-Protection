{
 "cells": [
  {
   "cell_type": "code",
   "execution_count": 7,
   "metadata": {},
   "outputs": [],
   "source": [
    "import os\n",
    "import sys\n",
    "import pandas as pd\n",
    "sys.path.append('../src')\n",
    "from Classical_ML_Creditcard import CreditCardModelingPipeline"
   ]
  },
  {
   "cell_type": "code",
   "execution_count": 8,
   "metadata": {},
   "outputs": [
    {
     "name": "stderr",
     "output_type": "stream",
     "text": [
      "d:\\10 ACADAMY KIFIYA\\Week 12\\FraudX-Real-Time-E-Commerce-and-Banking-Transaction-Protection\\env\\Lib\\site-packages\\sklearn\\linear_model\\_logistic.py:469: ConvergenceWarning: lbfgs failed to converge (status=1):\n",
      "STOP: TOTAL NO. of ITERATIONS REACHED LIMIT.\n",
      "\n",
      "Increase the number of iterations (max_iter) or scale the data as shown in:\n",
      "    https://scikit-learn.org/stable/modules/preprocessing.html\n",
      "Please also refer to the documentation for alternative solver options:\n",
      "    https://scikit-learn.org/stable/modules/linear_model.html#logistic-regression\n",
      "  n_iter_i = _check_optimize_result(\n"
     ]
    },
    {
     "name": "stdout",
     "output_type": "stream",
     "text": [
      "--- Logistic Regression ---\n",
      "              precision    recall  f1-score   support\n",
      "\n",
      "           0       0.87      0.99      0.92        73\n",
      "           1       0.99      0.86      0.92        79\n",
      "\n",
      "    accuracy                           0.92       152\n",
      "   macro avg       0.93      0.92      0.92       152\n",
      "weighted avg       0.93      0.92      0.92       152\n",
      "\n"
     ]
    },
    {
     "name": "stderr",
     "output_type": "stream",
     "text": [
      "2024/11/18 16:15:08 WARNING mlflow.models.model: Model logged without a signature and input example. Please set `input_example` parameter when logging the model to auto infer the model signature.\n"
     ]
    },
    {
     "name": "stdout",
     "output_type": "stream",
     "text": [
      "--- Decision Tree ---\n",
      "              precision    recall  f1-score   support\n",
      "\n",
      "           0       0.87      0.90      0.89        73\n",
      "           1       0.91      0.87      0.89        79\n",
      "\n",
      "    accuracy                           0.89       152\n",
      "   macro avg       0.89      0.89      0.89       152\n",
      "weighted avg       0.89      0.89      0.89       152\n",
      "\n"
     ]
    },
    {
     "name": "stderr",
     "output_type": "stream",
     "text": [
      "2024/11/18 16:15:11 WARNING mlflow.models.model: Model logged without a signature and input example. Please set `input_example` parameter when logging the model to auto infer the model signature.\n"
     ]
    },
    {
     "name": "stdout",
     "output_type": "stream",
     "text": [
      "--- Random Forest ---\n",
      "              precision    recall  f1-score   support\n",
      "\n",
      "           0       0.86      0.99      0.92        73\n",
      "           1       0.99      0.85      0.91        79\n",
      "\n",
      "    accuracy                           0.91       152\n",
      "   macro avg       0.92      0.92      0.91       152\n",
      "weighted avg       0.92      0.91      0.91       152\n",
      "\n"
     ]
    },
    {
     "name": "stderr",
     "output_type": "stream",
     "text": [
      "2024/11/18 16:15:15 WARNING mlflow.models.model: Model logged without a signature and input example. Please set `input_example` parameter when logging the model to auto infer the model signature.\n"
     ]
    },
    {
     "name": "stdout",
     "output_type": "stream",
     "text": [
      "--- Gradient Boosting ---\n",
      "              precision    recall  f1-score   support\n",
      "\n",
      "           0       0.87      0.99      0.92        73\n",
      "           1       0.99      0.86      0.92        79\n",
      "\n",
      "    accuracy                           0.92       152\n",
      "   macro avg       0.93      0.92      0.92       152\n",
      "weighted avg       0.93      0.92      0.92       152\n",
      "\n"
     ]
    },
    {
     "name": "stderr",
     "output_type": "stream",
     "text": [
      "2024/11/18 16:15:19 WARNING mlflow.models.model: Model logged without a signature and input example. Please set `input_example` parameter when logging the model to auto infer the model signature.\n"
     ]
    }
   ],
   "source": [
    "import pandas as pd\n",
    "\n",
    "# Step 1: Define data types for columns to reduce memory usage\n",
    "data_types = {\n",
    "    'Time': 'float64',\n",
    "    'V1': 'float64',\n",
    "    'V2': 'float64',\n",
    "    'V3': 'float64',\n",
    "    'V4': 'float64',\n",
    "    'V5': 'float64',\n",
    "    'V6': 'float64',\n",
    "    'V7': 'float64',\n",
    "    'V8': 'float64',\n",
    "    'V9': 'float64',\n",
    "    'V10': 'float64',\n",
    "    'V11': 'float64',\n",
    "    'V12': 'float64',\n",
    "    'V13': 'float64',\n",
    "    'V14': 'float64',\n",
    "    'V15': 'float64',\n",
    "    'V16': 'float64',\n",
    "    'V17': 'float64',\n",
    "    'V18': 'float64',\n",
    "    'V19': 'float64',\n",
    "    'V20': 'float64',\n",
    "    'V21': 'float64',\n",
    "    'V22': 'float64',\n",
    "    'V23': 'float64',\n",
    "    'V24': 'float64',\n",
    "    'V25': 'float64',\n",
    "    'V26': 'float64',\n",
    "    'V27': 'float64',\n",
    "    'V28': 'float64',\n",
    "    'Amount': 'float64',\n",
    "    'Class': 'int64'\n",
    "}\n",
    "\n",
    "# Step 2: Load the fraud dataset with specified data types\n",
    "creditcard_df = pd.read_csv(\"../Data/balanced_creditcard_data.csv\", dtype=data_types)\n",
    "\n",
    "# Step 3: Optionally sample the dataset if it's too large\n",
    "creditcard= creditcard_df.sample(frac=1, random_state=42)  # Adjust sample size as needed\n",
    "\n",
    "# Step 4: Initialize the fraud modeling pipeline\n",
    "creditcard_pipeline = CreditCardModelingPipeline(creditcard, target_column='Class', dataset_name=\"creditcard\")\n",
    "\n",
    "# Step 5: Train the models\n",
    "creditcard_pipeline.train_models()"
   ]
  },
  {
   "cell_type": "code",
   "execution_count": 9,
   "metadata": {},
   "outputs": [
    {
     "name": "stdout",
     "output_type": "stream",
     "text": [
      "Fitting 5 folds for each of 50 candidates, totalling 250 fits\n",
      "Best Random Forest Parameters: {'n_estimators': 100, 'min_samples_split': 2, 'min_samples_leaf': 2, 'max_depth': 10, 'bootstrap': True}\n",
      "--- Random Forest (Tuned) ---\n",
      "              precision    recall  f1-score   support\n",
      "\n",
      "           0       0.86      1.00      0.92        73\n",
      "           1       1.00      0.85      0.92        79\n",
      "\n",
      "    accuracy                           0.92       152\n",
      "   macro avg       0.93      0.92      0.92       152\n",
      "weighted avg       0.93      0.92      0.92       152\n",
      "\n"
     ]
    },
    {
     "name": "stderr",
     "output_type": "stream",
     "text": [
      "2024/11/18 16:19:24 WARNING mlflow.models.model: Model logged without a signature and input example. Please set `input_example` parameter when logging the model to auto infer the model signature.\n"
     ]
    },
    {
     "name": "stdout",
     "output_type": "stream",
     "text": [
      "Fitting 5 folds for each of 50 candidates, totalling 250 fits\n",
      "Best Gradient Boosting Parameters: {'subsample': 0.8, 'n_estimators': 100, 'min_samples_split': 2, 'min_samples_leaf': 2, 'max_depth': 7, 'learning_rate': 0.1}\n",
      "--- Gradient Boosting (Tuned) ---\n",
      "              precision    recall  f1-score   support\n",
      "\n",
      "           0       0.86      1.00      0.92        73\n",
      "           1       1.00      0.85      0.92        79\n",
      "\n",
      "    accuracy                           0.92       152\n",
      "   macro avg       0.93      0.92      0.92       152\n",
      "weighted avg       0.93      0.92      0.92       152\n",
      "\n"
     ]
    },
    {
     "name": "stderr",
     "output_type": "stream",
     "text": [
      "2024/11/18 16:21:10 WARNING mlflow.models.model: Model logged without a signature and input example. Please set `input_example` parameter when logging the model to auto infer the model signature.\n"
     ]
    }
   ],
   "source": [
    "creditcard_pipeline.hyperparameter_tuning()"
   ]
  }
 ],
 "metadata": {
  "kernelspec": {
   "display_name": "env",
   "language": "python",
   "name": "python3"
  },
  "language_info": {
   "codemirror_mode": {
    "name": "ipython",
    "version": 3
   },
   "file_extension": ".py",
   "mimetype": "text/x-python",
   "name": "python",
   "nbconvert_exporter": "python",
   "pygments_lexer": "ipython3",
   "version": "3.12.6"
  }
 },
 "nbformat": 4,
 "nbformat_minor": 2
}
